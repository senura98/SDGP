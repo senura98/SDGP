{
 "cells": [
  {
   "cell_type": "code",
   "execution_count": 1,
   "metadata": {},
   "outputs": [],
   "source": [
    "import pandas as pd\n",
    "import numpy as np\n",
    "import matplotlib.pyplot as plt\n",
    "import seaborn as sns;\n",
    "%matplotlib inline"
   ]
  },
  {
   "cell_type": "code",
   "execution_count": 2,
   "metadata": {},
   "outputs": [],
   "source": [
    "#read the dataset\n",
    "data = pd.read_csv('BC_Final.csv', index_col=0)"
   ]
  },
  {
   "cell_type": "code",
   "execution_count": 3,
   "metadata": {},
   "outputs": [
    {
     "data": {
      "text/html": [
       "<div>\n",
       "<style scoped>\n",
       "    .dataframe tbody tr th:only-of-type {\n",
       "        vertical-align: middle;\n",
       "    }\n",
       "\n",
       "    .dataframe tbody tr th {\n",
       "        vertical-align: top;\n",
       "    }\n",
       "\n",
       "    .dataframe thead th {\n",
       "        text-align: right;\n",
       "    }\n",
       "</style>\n",
       "<table border=\"1\" class=\"dataframe\">\n",
       "  <thead>\n",
       "    <tr style=\"text-align: right;\">\n",
       "      <th></th>\n",
       "      <th>BMI</th>\n",
       "      <th>BreastFeeding</th>\n",
       "      <th>Marital Status</th>\n",
       "      <th>Alcohol</th>\n",
       "      <th>Smoking</th>\n",
       "      <th>BreastCancerHistory</th>\n",
       "      <th>Age at firstPeriod</th>\n",
       "      <th>MenstrualCycle</th>\n",
       "      <th>Cancer Positive</th>\n",
       "    </tr>\n",
       "    <tr>\n",
       "      <th>Age</th>\n",
       "      <th></th>\n",
       "      <th></th>\n",
       "      <th></th>\n",
       "      <th></th>\n",
       "      <th></th>\n",
       "      <th></th>\n",
       "      <th></th>\n",
       "      <th></th>\n",
       "      <th></th>\n",
       "    </tr>\n",
       "  </thead>\n",
       "  <tbody>\n",
       "    <tr>\n",
       "      <td>48</td>\n",
       "      <td>8.543723</td>\n",
       "      <td>1</td>\n",
       "      <td>1</td>\n",
       "      <td>0</td>\n",
       "      <td>0</td>\n",
       "      <td>0</td>\n",
       "      <td>15</td>\n",
       "      <td>1</td>\n",
       "      <td>0</td>\n",
       "    </tr>\n",
       "    <tr>\n",
       "      <td>31</td>\n",
       "      <td>10.204207</td>\n",
       "      <td>1</td>\n",
       "      <td>1</td>\n",
       "      <td>0</td>\n",
       "      <td>0</td>\n",
       "      <td>0</td>\n",
       "      <td>12</td>\n",
       "      <td>1</td>\n",
       "      <td>0</td>\n",
       "    </tr>\n",
       "    <tr>\n",
       "      <td>31</td>\n",
       "      <td>13.807133</td>\n",
       "      <td>1</td>\n",
       "      <td>1</td>\n",
       "      <td>0</td>\n",
       "      <td>0</td>\n",
       "      <td>0</td>\n",
       "      <td>14</td>\n",
       "      <td>1</td>\n",
       "      <td>0</td>\n",
       "    </tr>\n",
       "    <tr>\n",
       "      <td>33</td>\n",
       "      <td>14.088867</td>\n",
       "      <td>1</td>\n",
       "      <td>1</td>\n",
       "      <td>1</td>\n",
       "      <td>0</td>\n",
       "      <td>0</td>\n",
       "      <td>12</td>\n",
       "      <td>1</td>\n",
       "      <td>0</td>\n",
       "    </tr>\n",
       "    <tr>\n",
       "      <td>49</td>\n",
       "      <td>14.494061</td>\n",
       "      <td>1</td>\n",
       "      <td>1</td>\n",
       "      <td>0</td>\n",
       "      <td>0</td>\n",
       "      <td>0</td>\n",
       "      <td>15</td>\n",
       "      <td>1</td>\n",
       "      <td>0</td>\n",
       "    </tr>\n",
       "  </tbody>\n",
       "</table>\n",
       "</div>"
      ],
      "text/plain": [
       "           BMI  BreastFeeding  Marital Status  Alcohol  Smoking  \\\n",
       "Age                                                               \n",
       "48    8.543723              1               1        0        0   \n",
       "31   10.204207              1               1        0        0   \n",
       "31   13.807133              1               1        0        0   \n",
       "33   14.088867              1               1        1        0   \n",
       "49   14.494061              1               1        0        0   \n",
       "\n",
       "     BreastCancerHistory  Age at firstPeriod  MenstrualCycle  Cancer Positive  \n",
       "Age                                                                            \n",
       "48                     0                  15               1                0  \n",
       "31                     0                  12               1                0  \n",
       "31                     0                  14               1                0  \n",
       "33                     0                  12               1                0  \n",
       "49                     0                  15               1                0  "
      ]
     },
     "execution_count": 3,
     "metadata": {},
     "output_type": "execute_result"
    }
   ],
   "source": [
    "data.head()"
   ]
  },
  {
   "cell_type": "code",
   "execution_count": 4,
   "metadata": {},
   "outputs": [],
   "source": [
    "from sklearn.preprocessing import StandardScaler"
   ]
  },
  {
   "cell_type": "code",
   "execution_count": 5,
   "metadata": {},
   "outputs": [
    {
     "data": {
      "text/plain": [
       "StandardScaler(copy=True, with_mean=True, with_std=True)"
      ]
     },
     "execution_count": 5,
     "metadata": {},
     "output_type": "execute_result"
    }
   ],
   "source": [
    "#create an instace of the StandardScaler and fit the data \n",
    "#excluding the Cancer Positive Column (Result Column)\n",
    "scale = StandardScaler()\n",
    "scale.fit(data.drop('Cancer Positive', axis=1))"
   ]
  },
  {
   "cell_type": "code",
   "execution_count": 6,
   "metadata": {},
   "outputs": [],
   "source": [
    "scaled_feat = scale.transform(data.drop('Cancer Positive', axis=1))"
   ]
  },
  {
   "cell_type": "code",
   "execution_count": 7,
   "metadata": {},
   "outputs": [],
   "source": [
    "data_feature = pd.DataFrame(scaled_feat, columns=data.columns[:-1])"
   ]
  },
  {
   "cell_type": "code",
   "execution_count": 8,
   "metadata": {},
   "outputs": [],
   "source": [
    "from sklearn.model_selection import train_test_split"
   ]
  },
  {
   "cell_type": "code",
   "execution_count": 9,
   "metadata": {},
   "outputs": [
    {
     "data": {
      "text/plain": [
       "<function sklearn.model_selection._split.train_test_split(*arrays, **options)>"
      ]
     },
     "execution_count": 9,
     "metadata": {},
     "output_type": "execute_result"
    }
   ],
   "source": [
    "train_test_split"
   ]
  },
  {
   "cell_type": "code",
   "execution_count": null,
   "metadata": {},
   "outputs": [],
   "source": []
  },
  {
   "cell_type": "code",
   "execution_count": 10,
   "metadata": {},
   "outputs": [],
   "source": [
    "x = data_feature\n",
    "y = data['Cancer Positive']\n",
    "x_train, x_test, y_train, y_test = train_test_split(x, y, test_size=0.3, random_state=101)"
   ]
  },
  {
   "cell_type": "code",
   "execution_count": 11,
   "metadata": {},
   "outputs": [],
   "source": [
    "from sklearn.neighbors import KNeighborsClassifier"
   ]
  },
  {
   "cell_type": "code",
   "execution_count": 12,
   "metadata": {},
   "outputs": [],
   "source": [
    "knear = KNeighborsClassifier(n_neighbors=1)"
   ]
  },
  {
   "cell_type": "code",
   "execution_count": 13,
   "metadata": {},
   "outputs": [
    {
     "data": {
      "text/plain": [
       "KNeighborsClassifier(algorithm='auto', leaf_size=30, metric='minkowski',\n",
       "                     metric_params=None, n_jobs=None, n_neighbors=1, p=2,\n",
       "                     weights='uniform')"
      ]
     },
     "execution_count": 13,
     "metadata": {},
     "output_type": "execute_result"
    }
   ],
   "source": [
    "knear.fit(x_train, y_train)"
   ]
  },
  {
   "cell_type": "code",
   "execution_count": 14,
   "metadata": {},
   "outputs": [],
   "source": [
    "prediction = knear.predict(x_test)"
   ]
  },
  {
   "cell_type": "code",
   "execution_count": 15,
   "metadata": {},
   "outputs": [],
   "source": [
    "from sklearn.metrics import classification_report, confusion_matrix"
   ]
  },
  {
   "cell_type": "code",
   "execution_count": 16,
   "metadata": {},
   "outputs": [
    {
     "name": "stdout",
     "output_type": "stream",
     "text": [
      "[[397  32]\n",
      " [ 46 242]]\n",
      "              precision    recall  f1-score   support\n",
      "\n",
      "           0       0.90      0.93      0.91       429\n",
      "           1       0.88      0.84      0.86       288\n",
      "\n",
      "    accuracy                           0.89       717\n",
      "   macro avg       0.89      0.88      0.89       717\n",
      "weighted avg       0.89      0.89      0.89       717\n",
      "\n"
     ]
    }
   ],
   "source": [
    "#print confusion matrix and the classification report\n",
    "print(confusion_matrix(y_test, prediction))\n",
    "print(classification_report(y_test, prediction))"
   ]
  },
  {
   "cell_type": "code",
   "execution_count": 17,
   "metadata": {},
   "outputs": [],
   "source": [
    "#chose the correct K value using the elbow method\n",
    "err_rate = []\n",
    "\n",
    "for i in range(1,60): \n",
    "    knear = KNeighborsClassifier(n_neighbors=i)\n",
    "    knear.fit(x_train, y_train)\n",
    "    i_predict = knear.predict(x_test)\n",
    "    err_rate.append(np.mean(i_predict != y_test))"
   ]
  },
  {
   "cell_type": "code",
   "execution_count": 18,
   "metadata": {},
   "outputs": [
    {
     "data": {
      "text/plain": [
       "Text(0, 0.5, 'Error rate')"
      ]
     },
     "execution_count": 18,
     "metadata": {},
     "output_type": "execute_result"
    },
    {
     "data": {
      "image/png": "[encoded data removed]",
      "text/plain": [
       "<Figure size 720x432 with 1 Axes>"
      ]
     },
     "metadata": {
      "needs_background": "light"
     },
     "output_type": "display_data"
    }
   ],
   "source": [
    "#plot the error rates for different k values\n",
    "plt.figure(figsize=(10,6))\n",
    "plt.plot(range(1,60), err_rate, color='red', marker='o', markerfacecolor='blue',markersize=10)\n",
    "plt.title('Error Rate vs K value')\n",
    "plt.xlabel('k')\n",
    "plt.ylabel('Error rate')"
   ]
  },
  {
   "cell_type": "code",
   "execution_count": 19,
   "metadata": {},
   "outputs": [
    {
     "data": {
      "text/plain": [
       "[0.1087866108786611,\n",
       " 0.12552301255230125,\n",
       " 0.07112970711297072,\n",
       " 0.08926080892608089,\n",
       " 0.07810320781032078,\n",
       " 0.0794979079497908,\n",
       " 0.07391910739191074,\n",
       " 0.08089260808926081,\n",
       " 0.0794979079497908,\n",
       " 0.08368200836820083,\n",
       " 0.08507670850767085,\n",
       " 0.08507670850767085,\n",
       " 0.08368200836820083,\n",
       " 0.08647140864714087,\n",
       " 0.08368200836820083,\n",
       " 0.08786610878661087,\n",
       " 0.08647140864714087,\n",
       " 0.10181311018131102,\n",
       " 0.09483960948396095,\n",
       " 0.09483960948396095,\n",
       " 0.09762900976290098,\n",
       " 0.09902370990237098,\n",
       " 0.09623430962343096,\n",
       " 0.10460251046025104,\n",
       " 0.10320781032078104,\n",
       " 0.10739191073919108,\n",
       " 0.10181311018131102,\n",
       " 0.1087866108786611,\n",
       " 0.10460251046025104,\n",
       " 0.1101813110181311,\n",
       " 0.1101813110181311,\n",
       " 0.12133891213389121,\n",
       " 0.11854951185495119,\n",
       " 0.12273361227336123,\n",
       " 0.1199442119944212,\n",
       " 0.12691771269177127,\n",
       " 0.12273361227336123,\n",
       " 0.13249651324965134,\n",
       " 0.13110181311018132,\n",
       " 0.13249651324965134,\n",
       " 0.13249651324965134,\n",
       " 0.1394700139470014,\n",
       " 0.1394700139470014,\n",
       " 0.14225941422594143,\n",
       " 0.1394700139470014,\n",
       " 0.14783821478382148,\n",
       " 0.14644351464435146,\n",
       " 0.1506276150627615,\n",
       " 0.14783821478382148,\n",
       " 0.15481171548117154,\n",
       " 0.15341701534170155,\n",
       " 0.15620641562064155,\n",
       " 0.15341701534170155,\n",
       " 0.15620641562064155,\n",
       " 0.1492329149232915,\n",
       " 0.15481171548117154,\n",
       " 0.15481171548117154,\n",
       " 0.16178521617852162,\n",
       " 0.16178521617852162]"
      ]
     },
     "execution_count": 19,
     "metadata": {},
     "output_type": "execute_result"
    }
   ],
   "source": [
    "err_rate"
   ]
  },
  {
   "cell_type": "code",
   "execution_count": 20,
   "metadata": {},
   "outputs": [],
   "source": [
    "knear1 = KNeighborsClassifier(n_neighbors=3)\n",
    "knear1.fit(x_train, y_train)\n",
    "perdiction1 = knear1.predict(x_test)"
   ]
  },
  {
   "cell_type": "code",
   "execution_count": null,
   "metadata": {},
   "outputs": [],
   "source": []
  },
  {
   "cell_type": "code",
   "execution_count": 21,
   "metadata": {},
   "outputs": [
    {
     "name": "stdout",
     "output_type": "stream",
     "text": [
      "[[407  22]\n",
      " [ 29 259]]\n",
      "\n",
      "\n",
      "              precision    recall  f1-score   support\n",
      "\n",
      "           0       0.93      0.95      0.94       429\n",
      "           1       0.92      0.90      0.91       288\n",
      "\n",
      "    accuracy                           0.93       717\n",
      "   macro avg       0.93      0.92      0.93       717\n",
      "weighted avg       0.93      0.93      0.93       717\n",
      "\n"
     ]
    }
   ],
   "source": [
    "print(confusion_matrix(y_test, perdiction1))\n",
    "print('\\n')\n",
    "print(classification_report(y_test, perdiction1))"
   ]
  },
  {
   "cell_type": "code",
   "execution_count": 22,
   "metadata": {},
   "outputs": [],
   "source": [
    "import joblib as jb"
   ]
  },
  {
   "cell_type": "code",
   "execution_count": 23,
   "metadata": {},
   "outputs": [
    {
     "data": {
      "text/plain": [
       "['final_model.pkl']"
      ]
     },
     "execution_count": 23,
     "metadata": {},
     "output_type": "execute_result"
    }
   ],
   "source": [
    "jb.dump(knear1,'final_model.pkl')"
   ]
  },
  {
   "cell_type": "code",
   "execution_count": null,
   "metadata": {},
   "outputs": [],
   "source": []
  }
 ],
 "metadata": {
  "kernelspec": {
   "display_name": "Python 3",
   "language": "python",
   "name": "python3"
  },
  "language_info": {
   "codemirror_mode": {
    "name": "ipython",
    "version": 3
   },
   "file_extension": ".py",
   "mimetype": "text/x-python",
   "name": "python",
   "nbconvert_exporter": "python",
   "pygments_lexer": "ipython3",
   "version": "3.7.4"
  }
 },
 "nbformat": 4,
 "nbformat_minor": 2
}
